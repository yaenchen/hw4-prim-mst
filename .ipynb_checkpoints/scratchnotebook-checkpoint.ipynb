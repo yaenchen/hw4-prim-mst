{
 "cells": [
  {
   "cell_type": "code",
   "execution_count": null,
   "id": "0c1051de-7770-4372-b3d7-3ca6ef12b740",
   "metadata": {},
   "outputs": [],
   "source": [
    "%load_ext autoreload\n",
    "# reloads the file constantly so you don't need to reset\n",
    "%autoreload 2"
   ]
  },
  {
   "cell_type": "code",
   "execution_count": null,
   "id": "c6b73e5e-84aa-46a8-9405-2886c22ea93b",
   "metadata": {},
   "outputs": [],
   "source": [
    "%reload_ext autoreload"
   ]
  },
  {
   "cell_type": "code",
   "execution_count": 43,
   "id": "89b40f23-7078-4b53-b8e6-553e00326f09",
   "metadata": {},
   "outputs": [],
   "source": [
    "# import the libraries\n",
    "from mst import (\n",
    "    Graph)\n",
    "import numpy as np\n",
    "import heapq"
   ]
  },
  {
   "cell_type": "code",
   "execution_count": 28,
   "id": "0bdb488e-e53f-45df-8fb9-9663e8144916",
   "metadata": {},
   "outputs": [
    {
     "data": {
      "text/plain": [
       "array([[0., 5., 0., 5.],\n",
       "       [5., 0., 1., 2.],\n",
       "       [0., 1., 0., 4.],\n",
       "       [5., 2., 4., 0.]])"
      ]
     },
     "execution_count": 28,
     "metadata": {},
     "output_type": "execute_result"
    }
   ],
   "source": [
    "g = Graph('./data/small.csv')\n",
    "g.adj_mat"
   ]
  },
  {
   "cell_type": "code",
   "execution_count": 30,
   "id": "10b03063-da53-46ee-b30d-ede032388a53",
   "metadata": {},
   "outputs": [
    {
     "data": {
      "text/plain": [
       "4"
      ]
     },
     "execution_count": 30,
     "metadata": {},
     "output_type": "execute_result"
    }
   ],
   "source": [
    "tol_vertices = np.shape(g.adj_mat)[0]\n",
    "tol_vertices"
   ]
  },
  {
   "cell_type": "code",
   "execution_count": 31,
   "id": "4b195fa8-be6b-45f4-b456-4df97dc2d67e",
   "metadata": {},
   "outputs": [],
   "source": [
    "visited = {0}"
   ]
  },
  {
   "cell_type": "code",
   "execution_count": 60,
   "id": "718ba4ca-cff9-4375-9b80-30e727a884df",
   "metadata": {},
   "outputs": [],
   "source": [
    "# total number of vertices is the number of rows (or it could be columns)\n",
    "tol_vertices = np.shape(g.adj_mat)[0]\n",
    "# instantiate an empty list for visited nodes\n",
    "visited = []\n",
    "# instantiate a random starting vertex\n",
    "start_vertex = 0\n",
    "# instantiate an empty list for the priority queue, store outgoing edges from start\n",
    "priority_queue = []\n",
    "for vertex in range(tol_vertices):\n",
    "    if g.adj_mat[start_vertex, vertex] != 0:\n",
    "        priority_queue.append((g.adj_mat[start_vertex, vertex], start_vertex, vertex))\n",
    "\n",
    "visited.append(start_vertex)\n",
    "heapq.heapify(priority_queue)\n",
    "       \n",
    "#add all outgoing edges from the destination vertex into priority queue\n",
    "\n",
    "#self.mst = None"
   ]
  },
  {
   "cell_type": "code",
   "execution_count": 50,
   "id": "0af9a434-2424-4ab3-bb5c-9d33e003a97b",
   "metadata": {},
   "outputs": [
    {
     "name": "stdout",
     "output_type": "stream",
     "text": [
      "[(5.0, 0, 1), (5.0, 0, 3)]\n"
     ]
    }
   ],
   "source": [
    "print(priority_queue)"
   ]
  },
  {
   "cell_type": "code",
   "execution_count": 61,
   "id": "5cff6ca4-d344-40dc-8fba-3f1b8c5a8d6c",
   "metadata": {},
   "outputs": [],
   "source": [
    "mst = np.zeros(g.adj_mat.shape)\n",
    "while len(visited) != tol_vertices:\n",
    "    #pop the lowest weight edge from the priority queue\n",
    "    weight, start, end = heapq.heappop(priority_queue)\n",
    "    if end not in visited:\n",
    "        # add this edge to the MST\n",
    "        mst[start, end] = weight\n",
    "        mst[end, start] = weight\n",
    "        # add the destination to visited\n",
    "        visited.append(end)\n",
    "\n",
    "        # add all outgoing edges from the destination vertex into priority queue\n",
    "        for vertex in range(tol_vertices):\n",
    "            if g.adj_mat[start, vertex] != 0:\n",
    "                heapq.heappush(priority_queue, (g.adj_mat[end, vertex], end, vertex))\n",
    "\n",
    "g.mst = mst"
   ]
  },
  {
   "cell_type": "code",
   "execution_count": 62,
   "id": "231ee681-4000-4771-b7da-b6ad57cd757f",
   "metadata": {},
   "outputs": [
    {
     "data": {
      "text/plain": [
       "array([[0., 5., 0., 0.],\n",
       "       [5., 0., 0., 2.],\n",
       "       [0., 0., 0., 4.],\n",
       "       [0., 2., 4., 0.]])"
      ]
     },
     "execution_count": 62,
     "metadata": {},
     "output_type": "execute_result"
    }
   ],
   "source": [
    "mst"
   ]
  }
 ],
 "metadata": {
  "kernelspec": {
   "display_name": "Python 3 (ipykernel)",
   "language": "python",
   "name": "python3"
  },
  "language_info": {
   "codemirror_mode": {
    "name": "ipython",
    "version": 3
   },
   "file_extension": ".py",
   "mimetype": "text/x-python",
   "name": "python",
   "nbconvert_exporter": "python",
   "pygments_lexer": "ipython3",
   "version": "3.9.7"
  }
 },
 "nbformat": 4,
 "nbformat_minor": 5
}
